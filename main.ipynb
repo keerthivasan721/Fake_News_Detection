{
 "cells": [
  {
   "cell_type": "code",
   "execution_count": 1,
   "metadata": {},
   "outputs": [],
   "source": [
    "import numpy as np\n",
    "import pandas as pd\n",
    "import seaborn as sns\n",
    "import itertools\n",
    "from sklearn.model_selection import train_test_split\n",
    "from sklearn.feature_extraction.text import TfidfVectorizer\n",
    "from sklearn.linear_model import PassiveAggressiveClassifier\n",
    "from sklearn.metrics import accuracy_score, confusion_matrix"
   ]
  },
  {
   "cell_type": "code",
   "execution_count": 2,
   "metadata": {},
   "outputs": [],
   "source": [
    "data = pd.read_csv(\"Dataset\\preprocessed.csv\")"
   ]
  },
  {
   "cell_type": "code",
   "execution_count": 3,
   "metadata": {},
   "outputs": [
    {
     "data": {
      "text/html": [
       "<div>\n",
       "<style scoped>\n",
       "    .dataframe tbody tr th:only-of-type {\n",
       "        vertical-align: middle;\n",
       "    }\n",
       "\n",
       "    .dataframe tbody tr th {\n",
       "        vertical-align: top;\n",
       "    }\n",
       "\n",
       "    .dataframe thead th {\n",
       "        text-align: right;\n",
       "    }\n",
       "</style>\n",
       "<table border=\"1\" class=\"dataframe\">\n",
       "  <thead>\n",
       "    <tr style=\"text-align: right;\">\n",
       "      <th></th>\n",
       "      <th>Headline</th>\n",
       "      <th>Body</th>\n",
       "      <th>Label</th>\n",
       "    </tr>\n",
       "  </thead>\n",
       "  <tbody>\n",
       "    <tr>\n",
       "      <th>0</th>\n",
       "      <td>category 6? if hurricane irma becomes the stro...</td>\n",
       "      <td>Meteorologists have been shocked at how rapidl...</td>\n",
       "      <td>0</td>\n",
       "    </tr>\n",
       "    <tr>\n",
       "      <th>1</th>\n",
       "      <td>frenchwoman garcia completes wta finals field</td>\n",
       "      <td>(Reuters) - Frenchwoman Caroline Garcia became...</td>\n",
       "      <td>1</td>\n",
       "    </tr>\n",
       "    <tr>\n",
       "      <th>2</th>\n",
       "      <td>pre-order the rotoprofessor 2018 fantasy baseb...</td>\n",
       "      <td>(Before It's News)\\nIt’s that time of year aga...</td>\n",
       "      <td>0</td>\n",
       "    </tr>\n",
       "    <tr>\n",
       "      <th>3</th>\n",
       "      <td>trump to make 'important announcement' on nort...</td>\n",
       "      <td>US president Donald Trump has revealed that he...</td>\n",
       "      <td>0</td>\n",
       "    </tr>\n",
       "    <tr>\n",
       "      <th>4</th>\n",
       "      <td>england women: mo marley names first england s...</td>\n",
       "      <td>Mo Marley was named interim manager following ...</td>\n",
       "      <td>1</td>\n",
       "    </tr>\n",
       "    <tr>\n",
       "      <th>...</th>\n",
       "      <td>...</td>\n",
       "      <td>...</td>\n",
       "      <td>...</td>\n",
       "    </tr>\n",
       "    <tr>\n",
       "      <th>4004</th>\n",
       "      <td>video captures fistfight between passengers on...</td>\n",
       "      <td>A flight from Tokyo to Los Angeles was delayed...</td>\n",
       "      <td>0</td>\n",
       "    </tr>\n",
       "    <tr>\n",
       "      <th>4005</th>\n",
       "      <td>u.s. helicopter crashes on okinawa, adding to ...</td>\n",
       "      <td>TOKYO — A transport helicopter made an emergen...</td>\n",
       "      <td>1</td>\n",
       "    </tr>\n",
       "    <tr>\n",
       "      <th>4006</th>\n",
       "      <td>trump administration formally lifts sanctions ...</td>\n",
       "      <td>But she added, “Any further normalization of t...</td>\n",
       "      <td>1</td>\n",
       "    </tr>\n",
       "    <tr>\n",
       "      <th>4007</th>\n",
       "      <td>new video emerges raising questions of overlap...</td>\n",
       "      <td>By Rachel Blevins\\nA new video has emerged fro...</td>\n",
       "      <td>0</td>\n",
       "    </tr>\n",
       "    <tr>\n",
       "      <th>4008</th>\n",
       "      <td>active shooter reported near las vegas casino</td>\n",
       "      <td>A Potato Battery Can Light up a Room for Over ...</td>\n",
       "      <td>0</td>\n",
       "    </tr>\n",
       "  </tbody>\n",
       "</table>\n",
       "<p>4009 rows × 3 columns</p>\n",
       "</div>"
      ],
      "text/plain": [
       "                                               Headline  \\\n",
       "0     category 6? if hurricane irma becomes the stro...   \n",
       "1         frenchwoman garcia completes wta finals field   \n",
       "2     pre-order the rotoprofessor 2018 fantasy baseb...   \n",
       "3     trump to make 'important announcement' on nort...   \n",
       "4     england women: mo marley names first england s...   \n",
       "...                                                 ...   \n",
       "4004  video captures fistfight between passengers on...   \n",
       "4005  u.s. helicopter crashes on okinawa, adding to ...   \n",
       "4006  trump administration formally lifts sanctions ...   \n",
       "4007  new video emerges raising questions of overlap...   \n",
       "4008      active shooter reported near las vegas casino   \n",
       "\n",
       "                                                   Body  Label  \n",
       "0     Meteorologists have been shocked at how rapidl...      0  \n",
       "1     (Reuters) - Frenchwoman Caroline Garcia became...      1  \n",
       "2     (Before It's News)\\nIt’s that time of year aga...      0  \n",
       "3     US president Donald Trump has revealed that he...      0  \n",
       "4     Mo Marley was named interim manager following ...      1  \n",
       "...                                                 ...    ...  \n",
       "4004  A flight from Tokyo to Los Angeles was delayed...      0  \n",
       "4005  TOKYO — A transport helicopter made an emergen...      1  \n",
       "4006  But she added, “Any further normalization of t...      1  \n",
       "4007  By Rachel Blevins\\nA new video has emerged fro...      0  \n",
       "4008  A Potato Battery Can Light up a Room for Over ...      0  \n",
       "\n",
       "[4009 rows x 3 columns]"
      ]
     },
     "execution_count": 3,
     "metadata": {},
     "output_type": "execute_result"
    }
   ],
   "source": [
    "data"
   ]
  },
  {
   "cell_type": "code",
   "execution_count": null,
   "metadata": {},
   "outputs": [],
   "source": []
  }
 ],
 "metadata": {
  "kernelspec": {
   "display_name": "project",
   "language": "python",
   "name": "python3"
  },
  "language_info": {
   "codemirror_mode": {
    "name": "ipython",
    "version": 3
   },
   "file_extension": ".py",
   "mimetype": "text/x-python",
   "name": "python",
   "nbconvert_exporter": "python",
   "pygments_lexer": "ipython3",
   "version": "3.8.15"
  },
  "orig_nbformat": 4,
  "vscode": {
   "interpreter": {
    "hash": "7809d956f82bd1fa88b71ab2b928bb4840f879d149603809bcc3faf23857b245"
   }
  }
 },
 "nbformat": 4,
 "nbformat_minor": 2
}
